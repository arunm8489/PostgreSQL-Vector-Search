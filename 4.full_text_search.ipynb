{
 "cells": [
  {
   "cell_type": "markdown",
   "metadata": {},
   "source": [
    "Full-Text Search searches the documents that match with a query and, optionally, sort the records according to their relevance to the query."
   ]
  },
  {
   "cell_type": "markdown",
   "metadata": {},
   "source": [
    "### Code\n",
    "\n",
    "\n",
    "We have already created a table with embeddings. Lets do a basic keyword search"
   ]
  },
  {
   "cell_type": "code",
   "execution_count": 2,
   "metadata": {},
   "outputs": [],
   "source": [
    "from dotenv import load_dotenv\n",
    "import os,json \n",
    "from openai import AzureOpenAI\n",
    "import psycopg2,os\n",
    "from psycopg2.extras import execute_values\n",
    "from pgvector.psycopg2 import register_vector\n",
    "import numpy as np\n",
    "\n",
    "load_dotenv()\n",
    "\n",
    "\n",
    "## Intializing connection and Creating a Table\n",
    "\n",
    "\n",
    " \n",
    "DBUSER = os.environ[\"DBUSER\"]\n",
    "DBPASS = os.environ[\"DBPASS\"]\n",
    "DBHOST = os.environ[\"DBHOST\"]\n",
    "DBNAME = os.environ[\"DBNAME\"]\n",
    "# Use SSL if not connecting to localhost\n",
    "DBSSL = \"disable\"\n",
    "if DBHOST != \"localhost\":\n",
    "    DBSSL = \"require\"\n",
    " \n",
    " \n",
    "## initiate a connection\n",
    " \n",
    "def initiate_connection():\n",
    "    conn = psycopg2.connect(database=DBNAME, user=DBUSER, password=DBPASS, host=DBHOST, sslmode=DBSSL,port=38530)\n",
    "    conn.autocommit = True\n",
    "    return conn\n",
    "\n",
    "\n",
    "\n",
    "###   Create table\n",
    " \n",
    "## initialize a connection\n",
    "conn = initiate_connection()\n",
    "## create a table\n",
    "cur = conn.cursor()\n"
   ]
  },
  {
   "cell_type": "code",
   "execution_count": null,
   "metadata": {},
   "outputs": [],
   "source": [
    "table_name = \"document_text_values\"\n",
    "cur.execute(f\"create table {table_name}(file_id int, content text, description text)\")\n",
    "\n",
    "\n",
    "\n",
    "\n",
    "###   inject data\n",
    "data = [\n",
    "(1, 'The stock exchange predicts a bull market which would make many investors happy, but analysts warn of possibility of too much optimism and that in fact we are awaiting a bear market. As always predicting the future market is an uncertain game and all investors should follow their instincts and best practices.','Impact of bull market on investors'),\n",
    "(2, 'A bull market is one in which the market is rising and the economy is doing well, whereas a bear market is one in which the economy is collapsing and most equities are losing value. Although some investors are \"bearish,\" the vast majority of investors are \"bullish.\" Over lengthy time periods, the stock market has generally produced positive returns.','Market: positive and  negative sentiments'),\n",
    "(3, 'During a bear market, market sentiment is negative, and investors begin to shift their money away from stocks and into fixed-income instruments as they wait for the stock market to recover. To summarise, the drop in stock market values has shaken investor confidence. As a result, investors keep their money out of the market, causing a general price decrease as outflow grows.','Bull and bear market'),\n",
    "(4, ' the decrease in stock market values has shaken investor confidence, As they would have predicted that the market will fall more.  This causes investors to keep their money out of the market, causing a general price decrease as outflow grows. In bear market, value of stocks falls while in bull market the value of stocks falls. However the market has been producing the positive result over length periods.','Impact of price decrease in market')\n",
    "]\n",
    "\n",
    "## initialize a connection\n",
    "conn = initiate_connection()\n",
    "cur = conn.cursor()\n",
    "execute_values(cur,f\"INSERT INTO {table_name} (file_id,content,description) VALUES %s\",data)\n",
    "\n",
    "\n",
    "\n",
    "## print total number of records in the table\n",
    "cur.execute(f\"SELECT COUNT(*) as cnt FROM {table_name}\")\n",
    "num_records = cur.fetchone()[0]\n",
    "print(\"Total number of records inserted: \",num_records)"
   ]
  },
  {
   "cell_type": "markdown",
   "metadata": {},
   "source": [
    "Lets see a basic text search"
   ]
  },
  {
   "cell_type": "code",
   "execution_count": 3,
   "metadata": {},
   "outputs": [
    {
     "name": "stdout",
     "output_type": "stream",
     "text": [
      "[(3, 'During a bear market, market sentiment is negative, and investors begin to shift their money away from stocks and into fixed-income instruments as they wait for the stock market to recover. To summarise, the drop in stock market values has shaken investor confidence. As a result, investors keep their money out of the market, causing a general price decrease as outflow grows.')]\n"
     ]
    }
   ],
   "source": [
    "## keyword search\n",
    "def keyword_search(conn, query):\n",
    "    cur = conn.cursor()\n",
    "    cur.execute(\"SELECT file_id, content FROM document_text_values, plainto_tsquery('english', %s) query \\\n",
    "                 WHERE to_tsvector('english', content) @@ query ORDER BY ts_rank_cd(to_tsvector('english', content),\\\n",
    "                 query) DESC LIMIT 2\", (query,))\n",
    "    return cur.fetchall()\n",
    "\n",
    "cur = conn.cursor()\n",
    "\n",
    "# query = \"Barcelona\"\n",
    "\n",
    "query = \"market sentiment\"\n",
    "## print total number of records in the table\n",
    "result = keyword_search(conn, query)\n",
    "print(result)\n",
    "\n",
    "# print(result.fetchall())\n"
   ]
  },
  {
   "cell_type": "markdown",
   "metadata": {},
   "source": [
    "Now we will get to know how this actually works by getting in to text search feature by postgres."
   ]
  },
  {
   "cell_type": "markdown",
   "metadata": {},
   "source": [
    "### Some Import Keyword Searching Functions in Postgres\n",
    "\n",
    "We can say there are mainly 3 concepts in text search using Postgres\n",
    "\n",
    "-  Preprocess the documents : ts_vector()\n",
    "-  Query the processed document: ts_query()\n",
    "-  Ranking the search results: ts_rank() and ts_rank_cd()\n",
    "\n",
    "\n",
    "### Text Parsing - TsVector and TsQuery - Preprocessing and Querying\n",
    "\n",
    "**tsvector**\n",
    "\n",
    "- The tsvector is a sorted collection of key-value pair, where key represent lexeme and value represents lexeme's position.Lexemes are normalized representation of words. There are no stop words like 'on','at' etc in lexemes.\n",
    "\n",
    "- to_tsvector() is Postgres’s internal function that returns a tsvector for the text or document passed as an argument, which can be used to perform efficient text searches. \n",
    "\n",
    "*Note: Lexeme is nothing but root form of a word.For eg: walk has \"walks\",\" \"walked,\" and \"walking\".*\n",
    "\n",
    "\n",
    "ref: https://medium.com/geekculture/comprehend-tsvector-and-tsquery-in-postgres-for-full-text-search-1fd4323409fc"
   ]
  },
  {
   "cell_type": "code",
   "execution_count": 36,
   "metadata": {},
   "outputs": [
    {
     "data": {
      "text/plain": [
       "[(\"'along':11 'appl':1,8 'beauti':4 'day':10 'grape':13 'love':6 'tree':2\",)]"
      ]
     },
     "execution_count": 36,
     "metadata": {},
     "output_type": "execute_result"
    }
   ],
   "source": [
    "sql = \"SELECT to_tsvector('Apple trees are beautiful. I love having apple each day along with grapes')\"\n",
    "\n",
    "def execute_statement(sql):\n",
    "    cur = conn.cursor()\n",
    "    cur.execute(sql)\n",
    "    return cur.fetchall()\n",
    "\n",
    "execute_statement(sql)"
   ]
  },
  {
   "cell_type": "markdown",
   "metadata": {},
   "source": [
    "**tsquery**\n",
    "\n",
    "* Each word’s normalized lexeme representation differs slightly from the word itself.For example word 'apple' transformed in to 'appl' lexeme. Searching 'apple' without using the to_tsquery() function returns false because Postgres internally casts the word 'apple' into the tsquery data type 'appl', which is not present in the ts vector.\n",
    "\n",
    "* A tsquery contains search terms, which must be already-normalized lexeme"
   ]
  },
  {
   "cell_type": "code",
   "execution_count": 39,
   "metadata": {},
   "outputs": [
    {
     "data": {
      "text/plain": [
       "[(\"'appl'\",)]"
      ]
     },
     "execution_count": 39,
     "metadata": {},
     "output_type": "execute_result"
    }
   ],
   "source": [
    "sql = \"select to_tsquery('apple')\"\n",
    "## here :: is the cast operator\n",
    "execute_statement(sql)"
   ]
  },
  {
   "cell_type": "code",
   "execution_count": 72,
   "metadata": {},
   "outputs": [
    {
     "name": "stdout",
     "output_type": "stream",
     "text": [
      "[(True,)]\n"
     ]
    }
   ],
   "source": [
    "\n",
    "sql1 = \"select to_tsvector('apple') @@ to_tsquery('apple')\"\n",
    "status = execute_statement(sql1)\n",
    "print(status)"
   ]
  },
  {
   "cell_type": "code",
   "execution_count": 49,
   "metadata": {},
   "outputs": [
    {
     "data": {
      "text/plain": [
       "[(\"'run'\", \"'run'\", \"'run'\")]"
      ]
     },
     "execution_count": 49,
     "metadata": {},
     "output_type": "execute_result"
    }
   ],
   "source": [
    "sql = \"select to_tsquery('runs'),to_tsquery('running'),to_tsquery('run')\"\n",
    "## here :: is the cast operator\n",
    "execute_statement(sql)"
   ]
  },
  {
   "cell_type": "markdown",
   "metadata": {},
   "source": [
    "**Types of ts_query**\n",
    "\n",
    "Postgres provides 3 typs of ts_query convertion:\n",
    "\n",
    "* plain_to_tsquery()\n",
    "* websearch_to_tsquery()\n",
    "* phrase_to_tsquery()"
   ]
  },
  {
   "cell_type": "markdown",
   "metadata": {},
   "source": [
    "**plainto_tsquery:**\n",
    "\n",
    "It transforms the unformatted text querytext to a tsquery value. The text is parsed and normalized much as for to_tsvector, then the & (AND) tsquery operator is inserted between surviving words"
   ]
  },
  {
   "cell_type": "code",
   "execution_count": 80,
   "metadata": {},
   "outputs": [
    {
     "data": {
      "text/plain": [
       "[(\"'appl' & 'healthi' & 'fruit'\",)]"
      ]
     },
     "execution_count": 80,
     "metadata": {},
     "output_type": "execute_result"
    }
   ],
   "source": [
    "sql = \"select plainto_tsquery('apple is healthy fruit')\"\n",
    "\n",
    "execute_statement(sql)"
   ]
  },
  {
   "cell_type": "code",
   "execution_count": 79,
   "metadata": {},
   "outputs": [
    {
     "name": "stdout",
     "output_type": "stream",
     "text": [
      "[(False,)]\n",
      "[(True,)]\n"
     ]
    }
   ],
   "source": [
    "sql1 = \"select to_tsvector('apple fruit is red in color') @@ plainto_tsquery('apple is healthy fruit')\"\n",
    "status = execute_statement(sql1)\n",
    "print(status)\n",
    "\n",
    "sql1 = \"select to_tsvector('Eating apple fruit daily will give healthy benifits') @@ plainto_tsquery('apple is healthy fruit')\"\n",
    "status = execute_statement(sql1)\n",
    "print(status)"
   ]
  },
  {
   "cell_type": "markdown",
   "metadata": {},
   "source": [
    "We can see the second string matches because we have all norm words 'appl','health' and 'fruit'(& operator) while in first example we have dont have 'healthi'"
   ]
  },
  {
   "cell_type": "markdown",
   "metadata": {},
   "source": [
    "**phraseto_tsquery:**\n",
    "\n",
    "phraseto_tsquery behaves much like plainto_tsquery, except that it inserts the <-> (FOLLOWED BY) operator between surviving words instead of the & (AND) operator."
   ]
  },
  {
   "cell_type": "code",
   "execution_count": 81,
   "metadata": {},
   "outputs": [
    {
     "data": {
      "text/plain": [
       "[(\"'appl' <2> 'healthi' <-> 'fruit'\",)]"
      ]
     },
     "execution_count": 81,
     "metadata": {},
     "output_type": "execute_result"
    }
   ],
   "source": [
    "sql = \"select phraseto_tsquery('apple is healthy fruit')\"\n",
    "\n",
    "execute_statement(sql)\n"
   ]
  },
  {
   "cell_type": "code",
   "execution_count": 88,
   "metadata": {},
   "outputs": [
    {
     "name": "stdout",
     "output_type": "stream",
     "text": [
      "[(False,)]\n",
      "[(False,)]\n",
      "[(True,)]\n"
     ]
    }
   ],
   "source": [
    "sql1 = \"select to_tsvector('apple fruit is red in color') @@ phraseto_tsquery('apple is healthy fruit')\"\n",
    "status = execute_statement(sql1)\n",
    "print(status)\n",
    "\n",
    "sql3 = \"select to_tsvector('Eating apple fruit daily will give healthy benifits') @@ phraseto_tsquery('apple is healthy fruit')\"\n",
    "status = execute_statement(sql3)\n",
    "print(status)\n",
    "\n",
    "\n",
    "sql3 = \"select to_tsvector('apple is healthy fruit in our country') @@ phraseto_tsquery('apple is healthy fruit')\"\n",
    "status = execute_statement(sql3)\n",
    "print(status)"
   ]
  },
  {
   "cell_type": "markdown",
   "metadata": {},
   "source": [
    "We can see that the search result matches only if the words in our query is in same order.\n",
    "\n",
    "**websearchto_tsquery**\n",
    "\n",
    "Its is a combination of  plainto_tsquery() and phraseto_tsquery(). \n",
    "it also intakes operators given in search text unlike pther two and doesnot throw syndax errors."
   ]
  },
  {
   "cell_type": "code",
   "execution_count": 97,
   "metadata": {},
   "outputs": [
    {
     "data": {
      "text/plain": [
       "[(\"'appl' <2> 'healthi' <-> 'fruit'\",)]"
      ]
     },
     "execution_count": 97,
     "metadata": {},
     "output_type": "execute_result"
    }
   ],
   "source": [
    "\n",
    "sql = \"\"\"select websearch_to_tsquery('\"apple is healthy fruit\"')\"\"\"\n",
    "## here :: is the cast operator\n",
    "execute_statement(sql)"
   ]
  },
  {
   "cell_type": "code",
   "execution_count": 98,
   "metadata": {},
   "outputs": [
    {
     "data": {
      "text/plain": [
       "[(\"'appl' & 'healthi' & 'fruit'\",)]"
      ]
     },
     "execution_count": 98,
     "metadata": {},
     "output_type": "execute_result"
    }
   ],
   "source": [
    "sql = \"select websearch_to_tsquery('apple is healthy fruit')\"\n",
    "## here :: is the cast operator\n",
    "execute_statement(sql)"
   ]
  },
  {
   "cell_type": "code",
   "execution_count": 104,
   "metadata": {},
   "outputs": [
    {
     "data": {
      "text/plain": [
       "[(\"'fruit' | 'veget'\",)]"
      ]
     },
     "execution_count": 104,
     "metadata": {},
     "output_type": "execute_result"
    }
   ],
   "source": [
    "sql = \"\"\"select websearch_to_tsquery('\"fruit\" or \"vegetable\"')\"\"\"\n",
    "## here :: is the cast operator\n",
    "execute_statement(sql)"
   ]
  },
  {
   "cell_type": "markdown",
   "metadata": {},
   "source": [
    "\n",
    "\n",
    "\n",
    "Lets see how to fetch from database"
   ]
  },
  {
   "cell_type": "code",
   "execution_count": 20,
   "metadata": {},
   "outputs": [
    {
     "data": {
      "text/plain": [
       "[(3,\n",
       "  'During a bear market, market sentiment is negative, and investors begin to shift their money away from stocks and into fixed-income instruments as they wait for the stock market to recover. To summarise, the drop in stock market values has shaken investor confidence. As a result, investors keep their money out of the market, causing a general price decrease as outflow grows.'),\n",
       " (4,\n",
       "  ' the decrease in stock market values has shaken investor confidence, As they would have predicted that the market will fall more.  This causes investors to keep their money out of the market, causing a general price decrease as outflow grows. In bear market, value of stocks falls while in bull market the value of stocks falls. However the market has been producing the positive result over length periods.')]"
      ]
     },
     "execution_count": 20,
     "metadata": {},
     "output_type": "execute_result"
    }
   ],
   "source": [
    "sql = \"select file_id, content from document_text_values where to_tsvector(content) @@ to_tsquery('confidence');\"\n",
    "\n",
    "execute_statement(sql)"
   ]
  },
  {
   "cell_type": "markdown",
   "metadata": {},
   "source": [
    "\n",
    "\n",
    "Note: \n",
    "- Here @@ is the match operator\n",
    "- We can use &(and operator),|(or operator),!(not operator with ts_vector)"
   ]
  },
  {
   "cell_type": "code",
   "execution_count": 25,
   "metadata": {},
   "outputs": [
    {
     "name": "stdout",
     "output_type": "stream",
     "text": [
      "[(4, ' the decrease in stock market values has shaken investor confidence, As they would have predicted that the market will fall more.  This causes investors to keep their money out of the market, causing a general price decrease as outflow grows. In bear market, value of stocks falls while in bull market the value of stocks falls. However the market has been producing the positive result over length periods.')]\n",
      "[(2, 'A bull market is one in which the market is rising and the economy is doing well, whereas a bear market is one in which the economy is collapsing and most equities are losing value. Although some investors are \"bearish,\" the vast majority of investors are \"bullish.\" Over lengthy time periods, the stock market has generally produced positive returns.'), (3, 'During a bear market, market sentiment is negative, and investors begin to shift their money away from stocks and into fixed-income instruments as they wait for the stock market to recover. To summarise, the drop in stock market values has shaken investor confidence. As a result, investors keep their money out of the market, causing a general price decrease as outflow grows.')]\n",
      "[]\n",
      "[(3, 'During a bear market, market sentiment is negative, and investors begin to shift their money away from stocks and into fixed-income instruments as they wait for the stock market to recover. To summarise, the drop in stock market values has shaken investor confidence. As a result, investors keep their money out of the market, causing a general price decrease as outflow grows.')]\n"
     ]
    }
   ],
   "source": [
    "## example\n",
    "sql_1 = \"select file_id, content from document_text_values where to_tsvector(content) @@ to_tsquery('confidence & prediction & investors');\"\n",
    "\n",
    "print(execute_statement(sql_1))\n",
    "\n",
    "\n",
    "sql_2 = \"select file_id, content from document_text_values where to_tsvector(content) @@ to_tsquery('negative | economy');\"\n",
    "print(execute_statement(sql_2))\n",
    "\n",
    "sql_3 = \"select file_id, content from document_text_values where to_tsvector(content) @@ to_tsquery('!bear');\"\n",
    "print(execute_statement(sql_3))\n",
    "\n",
    "\n",
    "sql_4 = \"select file_id, content from document_text_values where to_tsvector(content) @@ to_tsquery('(!bear & predict)| instruments');\"\n",
    "print(execute_statement(sql_4))\n"
   ]
  },
  {
   "cell_type": "markdown",
   "metadata": {},
   "source": [
    "### Indexing on text fields\n",
    "\n",
    "Full-text searches are slower in larger documents. To imporve the perfomance on full-text search postgres offers option of indexing ts_vector filed which leads to faster execution of search.GIN is the most commonly used index for full-text searches. The Postgres documentation suggests two approaches:\n",
    "- one is to create the to_tsvector() field directly in an index.\n",
    "-  other is to first create another tsvector column in your table using to_tsvector() and then create a gin index on this field.\n",
    "\n",
    "\n",
    "Lets see how second approach works"
   ]
  },
  {
   "cell_type": "code",
   "execution_count": 26,
   "metadata": {},
   "outputs": [],
   "source": [
    "sql = \"\"\"alter table document_text_values add column tsvector_content_desc tsvector GENERATED ALWAYS AS (to_tsvector('english', coalesce(content, '') || ' ' || coalesce(description, ''))) STORED;\"\"\"\n",
    "cur = conn.cursor()\n",
    "cur.execute(sql)\n",
    "\n",
    "## Now lets create GIN index\n",
    "sql = \"CREATE INDEX textsearch_idx ON document_text_values USING GIN (tsvector_content_desc);\"\n",
    "cur = conn.cursor()\n",
    "cur.execute(sql)\n"
   ]
  },
  {
   "cell_type": "markdown",
   "metadata": {},
   "source": [
    "Note: \n",
    "- coalesce means if the column value is null, it return the defined value.Here if content is NULL it will return '' as value. \n",
    "- '||' is used for string concatenation."
   ]
  },
  {
   "cell_type": "code",
   "execution_count": 31,
   "metadata": {},
   "outputs": [
    {
     "data": {
      "text/plain": [
       "[(1,\n",
       "  'The stock exchange predicts a bull market which would make many investors happy, but analysts warn of possibility of too much optimism and that in fact we are awaiting a bear market. As always predicting the future market is an uncertain game and all investors should follow their instincts and best practices.',\n",
       "  'Impact of bull market on investors',\n",
       "  \"'alway':34 'analyst':15 'await':29 'bear':31 'best':51 'bull':6,55 'exchang':3 'fact':26 'follow':47 'futur':37 'game':42 'happi':13 'impact':53 'instinct':49 'investor':12,45,58 'make':10 'mani':11 'market':7,32,38,56 'much':21 'optim':22 'possibl':18 'practic':52 'predict':4,35 'stock':2 'uncertain':41 'warn':16 'would':9\"),\n",
       " (2,\n",
       "  'A bull market is one in which the market is rising and the economy is doing well, whereas a bear market is one in which the economy is collapsing and most equities are losing value. Although some investors are \"bearish,\" the vast majority of investors are \"bullish.\" Over lengthy time periods, the stock market has generally produced positive returns.',\n",
       "  'Market: positive and  negative sentiments',\n",
       "  \"'although':36 'bear':20 'bearish':40 'bull':2 'bullish':47 'collaps':29 'economi':14,27 'equiti':32 'general':56 'investor':38,45 'lengthi':49 'lose':34 'major':43 'market':3,9,21,54,60 'negat':63 'one':5,23 'period':51 'posit':58,61 'produc':57 'return':59 'rise':11 'sentiment':64 'stock':53 'time':50 'valu':35 'vast':42 'well':17 'wherea':18\"),\n",
       " (3,\n",
       "  'During a bear market, market sentiment is negative, and investors begin to shift their money away from stocks and into fixed-income instruments as they wait for the stock market to recover. To summarise, the drop in stock market values has shaken investor confidence. As a result, investors keep their money out of the market, causing a general price decrease as outflow grows.',\n",
       "  'Bull and bear market',\n",
       "  \"'away':16 'bear':3,67 'begin':11 'bull':65 'caus':57 'confid':45 'decreas':61 'drop':37 'fix':22 'fixed-incom':21 'general':59 'grow':64 'incom':23 'instrument':24 'investor':10,44,49 'keep':50 'market':4,5,31,40,56,68 'money':15,52 'negat':8 'outflow':63 'price':60 'recov':33 'result':48 'sentiment':6 'shaken':43 'shift':13 'stock':18,30,39 'summaris':35 'valu':41 'wait':27\"),\n",
       " (4,\n",
       "  ' the decrease in stock market values has shaken investor confidence, As they would have predicted that the market will fall more.  This causes investors to keep their money out of the market, causing a general price decrease as outflow grows. In bear market, value of stocks falls while in bull market the value of stocks falls. However the market has been producing the positive result over length periods.',\n",
       "  'Impact of price decrease in market',\n",
       "  \"'bear':42 'bull':50 'caus':23,33 'confid':10 'decreas':2,37,72 'fall':20,47,56 'general':35 'grow':40 'howev':57 'impact':69 'investor':9,24 'keep':26 'length':67 'market':5,18,32,43,51,59,74 'money':28 'outflow':39 'period':68 'posit':64 'predict':15 'price':36,71 'produc':62 'result':65 'shaken':8 'stock':4,46,55 'valu':6,44,53 'would':13\")]"
      ]
     },
     "execution_count": 31,
     "metadata": {},
     "output_type": "execute_result"
    }
   ],
   "source": [
    "sql = \"select * from document_text_values\"\n",
    "execute_statement(sql)"
   ]
  },
  {
   "cell_type": "markdown",
   "metadata": {},
   "source": [
    "Once we have created index, we no longer need to convert text to ts_vector each time.We can directly use that column."
   ]
  },
  {
   "cell_type": "code",
   "execution_count": 42,
   "metadata": {},
   "outputs": [
    {
     "data": {
      "text/plain": [
       "[(3,\n",
       "  'During a bear market, market sentiment is negative, and investors begin to shift their money away from stocks and into fixed-income instruments as they wait for the stock market to recover. To summarise, the drop in stock market values has shaken investor confidence. As a result, investors keep their money out of the market, causing a general price decrease as outflow grows.')]"
      ]
     },
     "execution_count": 42,
     "metadata": {},
     "output_type": "execute_result"
    }
   ],
   "source": [
    "sql = \"select file_id, content from document_text_values where tsvector_content_desc @@ to_tsquery('(!bear & predict)| instruments');\"\n",
    "\n",
    "execute_statement(sql)"
   ]
  },
  {
   "cell_type": "markdown",
   "metadata": {},
   "source": [
    "### Ranking the Text\n",
    "\n",
    "Ranking our search results is very important.Ranking attempts to measure how relevant documents are to a particular query, so that when there are many matches the most relevant ones can be shown first.Postgres has two predefined ranking functions, which take into account lexical, proximity, and structural information.\n",
    "\n",
    "* ts_rank: It ranks vectors based on the frequency of their matching lexemes\n",
    "\n",
    "* ts_rank_cd: This function computes the cover density ranking for the given document vector and query, as described in Clarke, Cormack, and Tudhope's \"Relevance Ranking for One to Three Term Queries\" in the journal \"Information Processing and Management\", 1999. Cover density is similar to ts_rank ranking except that the proximity of matching lexemes to each other is taken into consideration.\n",
    "\n",
    "\n",
    "\n",
    "Lets see simple query for basic ranking"
   ]
  },
  {
   "cell_type": "code",
   "execution_count": 107,
   "metadata": {},
   "outputs": [
    {
     "name": "stdout",
     "output_type": "stream",
     "text": [
      "0.06079271\n",
      "0.1\n"
     ]
    }
   ],
   "source": [
    "\n",
    "\n",
    "sql = \"select ts_rank(to_tsvector('english','apple grow in field and is healthy'),to_tsquery('apple'))\"\n",
    "score = execute_statement(sql)\n",
    "print(score[0][0])\n",
    "\n",
    "\n",
    "sql = \"select ts_rank_cd(to_tsvector('english','apple grow in field and is healthy'),to_tsquery('apple'))\"\n",
    "score = execute_statement(sql)\n",
    "print(score[0][0])"
   ]
  },
  {
   "cell_type": "code",
   "execution_count": 48,
   "metadata": {},
   "outputs": [
    {
     "data": {
      "text/plain": [
       "[(1,\n",
       "  'The stock exchange predicts a bull market which would make many investors happy, but analysts warn of possibility of too much optimism and that in fact we are awaiting a bear market. As always predicting the future market is an uncertain game and all investors should follow their instincts and best practices.',\n",
       "  \"'alway':34 'analyst':15 'await':29 'bear':31 'best':51 'bull':6,55 'exchang':3 'fact':26 'follow':47 'futur':37 'game':42 'happi':13 'impact':53 'instinct':49 'investor':12,45,58 'make':10 'mani':11 'market':7,32,38,56 'much':21 'optim':22 'possibl':18 'practic':52 'predict':4,35 'stock':2 'uncertain':41 'warn':16 'would':9\",\n",
       "  0.075990885),\n",
       " (2,\n",
       "  'A bull market is one in which the market is rising and the economy is doing well, whereas a bear market is one in which the economy is collapsing and most equities are losing value. Although some investors are \"bearish,\" the vast majority of investors are \"bullish.\" Over lengthy time periods, the stock market has generally produced positive returns.',\n",
       "  \"'although':36 'bear':20 'bearish':40 'bull':2 'bullish':47 'collaps':29 'economi':14,27 'equiti':32 'general':56 'investor':38,45 'lengthi':49 'lose':34 'major':43 'market':3,9,21,54,60 'negat':63 'one':5,23 'period':51 'posit':58,61 'produc':57 'return':59 'rise':11 'sentiment':64 'stock':53 'time':50 'valu':35 'vast':42 'well':17 'wherea':18\",\n",
       "  0.06079271),\n",
       " (3,\n",
       "  'During a bear market, market sentiment is negative, and investors begin to shift their money away from stocks and into fixed-income instruments as they wait for the stock market to recover. To summarise, the drop in stock market values has shaken investor confidence. As a result, investors keep their money out of the market, causing a general price decrease as outflow grows.',\n",
       "  \"'away':16 'bear':3,67 'begin':11 'bull':65 'caus':57 'confid':45 'decreas':61 'drop':37 'fix':22 'fixed-incom':21 'general':59 'grow':64 'incom':23 'instrument':24 'investor':10,44,49 'keep':50 'market':4,5,31,40,56,68 'money':15,52 'negat':8 'outflow':63 'price':60 'recov':33 'result':48 'sentiment':6 'shaken':43 'shift':13 'stock':18,30,39 'summaris':35 'valu':41 'wait':27\",\n",
       "  0.06079271)]"
      ]
     },
     "execution_count": 48,
     "metadata": {},
     "output_type": "execute_result"
    }
   ],
   "source": [
    "sql_statement = \"select file_id, content, tsvector_content_desc, ts_rank(tsvector_content_desc, query) AS rank FROM document_text_values, websearch_to_tsquery('bull') as query where query @@ tsvector_content_desc ORDER BY rank DESC LIMIT 3;\"\n",
    "execute_statement(sql_statement)"
   ]
  },
  {
   "cell_type": "code",
   "execution_count": 115,
   "metadata": {},
   "outputs": [
    {
     "data": {
      "text/plain": [
       "[(1,\n",
       "  'The stock exchange predicts a bull market which would make many investors happy, but analysts warn of possibility of too much optimism and that in fact we are awaiting a bear market. As always predicting the future market is an uncertain game and all investors should follow their instincts and best practices.',\n",
       "  \"'alway':34 'analyst':15 'await':29 'bear':31 'best':51 'bull':6,55 'exchang':3 'fact':26 'follow':47 'futur':37 'game':42 'happi':13 'impact':53 'instinct':49 'investor':12,45,58 'make':10 'mani':11 'market':7,32,38,56 'much':21 'optim':22 'possibl':18 'practic':52 'predict':4,35 'stock':2 'uncertain':41 'warn':16 'would':9\",\n",
       "  0.2),\n",
       " (2,\n",
       "  'A bull market is one in which the market is rising and the economy is doing well, whereas a bear market is one in which the economy is collapsing and most equities are losing value. Although some investors are \"bearish,\" the vast majority of investors are \"bullish.\" Over lengthy time periods, the stock market has generally produced positive returns.',\n",
       "  \"'although':36 'bear':20 'bearish':40 'bull':2 'bullish':47 'collaps':29 'economi':14,27 'equiti':32 'general':56 'investor':38,45 'lengthi':49 'lose':34 'major':43 'market':3,9,21,54,60 'negat':63 'one':5,23 'period':51 'posit':58,61 'produc':57 'return':59 'rise':11 'sentiment':64 'stock':53 'time':50 'valu':35 'vast':42 'well':17 'wherea':18\",\n",
       "  0.2),\n",
       " (3,\n",
       "  'During a bear market, market sentiment is negative, and investors begin to shift their money away from stocks and into fixed-income instruments as they wait for the stock market to recover. To summarise, the drop in stock market values has shaken investor confidence. As a result, investors keep their money out of the market, causing a general price decrease as outflow grows.',\n",
       "  \"'away':16 'bear':3,67 'begin':11 'bull':65 'caus':57 'confid':45 'decreas':61 'drop':37 'fix':22 'fixed-incom':21 'general':59 'grow':64 'incom':23 'instrument':24 'investor':10,44,49 'keep':50 'market':4,5,31,40,56,68 'money':15,52 'negat':8 'outflow':63 'price':60 'recov':33 'result':48 'sentiment':6 'shaken':43 'shift':13 'stock':18,30,39 'summaris':35 'valu':41 'wait':27\",\n",
       "  0.1)]"
      ]
     },
     "execution_count": 115,
     "metadata": {},
     "output_type": "execute_result"
    }
   ],
   "source": [
    "sql_statement = \"select file_id, content, tsvector_content_desc, ts_rank_cd(tsvector_content_desc, query) AS rank FROM document_text_values, to_tsquery('bull|bullish') as query where query @@ tsvector_content_desc ORDER BY rank DESC LIMIT 3;\"\n",
    "execute_statement(sql_statement)"
   ]
  },
  {
   "cell_type": "markdown",
   "metadata": {},
   "source": [
    "Here we will pass our ts_query and our search column(which is ts vectorized) to the ranking function to get the rank\n",
    "\n",
    "**Normalization in ts_rank_cd()**\n",
    "\n",
    "Since a longer document has a greater chance of containing a query term it is reasonable to take into account document size, e.g., a hundred-word document with five instances of a search word is probably more relevant than a thousand-word document with five instances. Both ranking functions take an integer normalization option that specifies whether and how a document's length should impact its rank. The integer option controls several behaviors, so it is a bit mask: you can specify one or more behaviors using | (for example, 2|4).\n",
    "\n",
    "```\n",
    "0 (the default) ignores the document length\n",
    "\n",
    "1 divides the rank by 1 + the logarithm of the document length\n",
    "\n",
    "2 divides the rank by the document length\n",
    "\n",
    "4 divides the rank by the mean harmonic distance between extents (this is implemented only by ts_rank_cd)\n",
    "\n",
    "8 divides the rank by the number of unique words in document\n",
    "\n",
    "16 divides the rank by 1 + the logarithm of the number of unique words in document\n",
    "\n",
    "32 divides the rank by itself + 1\n",
    "```\n",
    "\n",
    "If more than one flag bit is specified, the transformations are applied in the order listed.\n"
   ]
  },
  {
   "cell_type": "code",
   "execution_count": 121,
   "metadata": {},
   "outputs": [
    {
     "data": {
      "text/plain": [
       "[(1,\n",
       "  'The stock exchange predicts a bull market which would make many investors happy, but analysts warn of possibility of too much optimism and that in fact we are awaiting a bear market. As always predicting the future market is an uncertain game and all investors should follow their instincts and best practices.',\n",
       "  0.17073171),\n",
       " (4,\n",
       "  ' the decrease in stock market values has shaken investor confidence, As they would have predicted that the market will fall more.  This causes investors to keep their money out of the market, causing a general price decrease as outflow grows. In bear market, value of stocks falls while in bull market the value of stocks falls. However the market has been producing the positive result over length periods.',\n",
       "  0.102564104),\n",
       " (2,\n",
       "  'A bull market is one in which the market is rising and the economy is doing well, whereas a bear market is one in which the economy is collapsing and most equities are losing value. Although some investors are \"bearish,\" the vast majority of investors are \"bullish.\" Over lengthy time periods, the stock market has generally produced positive returns.',\n",
       "  0.09090909),\n",
       " (3,\n",
       "  'During a bear market, market sentiment is negative, and investors begin to shift their money away from stocks and into fixed-income instruments as they wait for the stock market to recover. To summarise, the drop in stock market values has shaken investor confidence. As a result, investors keep their money out of the market, causing a general price decrease as outflow grows.',\n",
       "  0.042553194)]"
      ]
     },
     "execution_count": 121,
     "metadata": {},
     "output_type": "execute_result"
    }
   ],
   "source": [
    "sql_statement = \"\"\"SELECT file_id, content, ts_rank_cd(tsvector_content_desc,searchvector, 32) AS rank FROM document_text_values, plainto_tsquery('bull market') AS searchvector WHERE searchvector @@ tsvector_content_desc ORDER BY rank DESC\"\"\"\n",
    "\n",
    "\n",
    "\n",
    "execute_statement(sql_statement)"
   ]
  },
  {
   "cell_type": "code",
   "execution_count": null,
   "metadata": {},
   "outputs": [],
   "source": []
  }
 ],
 "metadata": {
  "kernelspec": {
   "display_name": "Python 3",
   "language": "python",
   "name": "python3"
  },
  "language_info": {
   "codemirror_mode": {
    "name": "ipython",
    "version": 3
   },
   "file_extension": ".py",
   "mimetype": "text/x-python",
   "name": "python",
   "nbconvert_exporter": "python",
   "pygments_lexer": "ipython3",
   "version": "3.8.18"
  }
 },
 "nbformat": 4,
 "nbformat_minor": 2
}
