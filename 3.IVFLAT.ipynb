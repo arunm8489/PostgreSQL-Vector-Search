{
 "cells": [
  {
   "cell_type": "markdown",
   "metadata": {},
   "source": [
    "- It works by dividing vetors in the table in to multiple list. In other words we can say it will divide the vectors in the table in to multiple clusters.\n",
    "- Here the algorithm will calculate the number of centroids(We can mention that while creating the index) and assign each vector in the database to one of the centroid. Therefore while searching First we will calculate the distance to each of the centroid and will find the closest centroid. Then we will search with the elements in the list belongs to that centroid. So our search space gets reduced significantly.\n",
    "\n",
    "- There are mainly two parameters to choose\n",
    "\n",
    "1. Number of lists\n",
    "2. Number of probes\n",
    "\n",
    "\n",
    "Number of lists is the number of lists/clusters we need to create.\n",
    "\n",
    "```\n",
    "CREATE INDEX ON items USING ivfflat (embedding vector_cosine_ops) WITH (lists = 1000)\n",
    "```\n",
    "\n",
    "\n",
    "***Note*** \n",
    "\n",
    "According to pg vector documentation, they suggest \n",
    "```\n",
    "if number of rows < 1M,  lists = number_of_rows/1000\n",
    "else  lists = square_root(number_of_rows)\n",
    "```\n",
    "\n",
    "\n",
    "Number of probes is the number of lists to be explored while searching.By default, only the region/list corresponding to the closest centroid is searched.Higher is better for recall, lower is better for speed.\n",
    "\n",
    "```\n",
    "SET ivfflat.probes = 32\n",
    "```\n",
    "\n",
    "***Note***\n",
    "\n",
    "According to pg vector documentation, they suggest\n",
    "```\n",
    "probes = sqrt(lists)\n",
    "```\n",
    "\n",
    "\n"
   ]
  },
  {
   "cell_type": "markdown",
   "metadata": {},
   "source": []
  }
 ],
 "metadata": {
  "kernelspec": {
   "display_name": "Python 3",
   "language": "python",
   "name": "python3"
  },
  "language_info": {
   "name": "python",
   "version": "3.10.12"
  }
 },
 "nbformat": 4,
 "nbformat_minor": 2
}
